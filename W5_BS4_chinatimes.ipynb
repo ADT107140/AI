{
 "cells": [
  {
   "cell_type": "code",
   "execution_count": 7,
   "metadata": {},
   "outputs": [
    {
     "name": "stdout",
     "output_type": "stream",
     "text": [
      "馬英九台北市長政績如何？資料一攤開酸民全傻了 - 政治\n",
      "網址: https://www.chinatimes.com/realtimenews/20201014001824-260407?ctrack=mo_main_hot_p01\n",
      "\n",
      "罷韓後高雄變冷清？他「1張空拍圖」曝現況 網大驚 - 政治\n",
      "網址: https://www.chinatimes.com/realtimenews/20201013005450-260407?ctrack=mo_main_hot_p02\n",
      "\n",
      "林子祥73歲近況曝光 生日同框愛妻葉蒨文「竟像父女」 - 娛樂\n",
      "網址: https://www.chinatimes.com/realtimenews/20201013003240-260404?ctrack=mo_main_hot_p03\n",
      "\n",
      "韓國瑜手上握有「最強血滴子」？軍校校友會理事長不藏了 - 政治\n",
      "網址: https://www.chinatimes.com/realtimenews/20201014002371-260407?ctrack=mo_main_hot_p04\n",
      "\n",
      "得知韓國瑜確定被罷免 李四川立刻做了這件事 - 政治\n",
      "網址: https://www.chinatimes.com/realtimenews/20201014001381-260407?ctrack=mo_main_hot_p05\n",
      "\n",
      "韓國瑜留下爛攤子？黃捷要高雄對「這55位孩子」負責 - 政治\n",
      "網址: https://www.chinatimes.com/realtimenews/20201014001466-260407?ctrack=mo_main_hot_p06\n",
      "\n",
      "韓國瑜喊「風雨飄搖」藏玄機？高雄議長罕吐真言 - 政治\n",
      "網址: https://www.chinatimes.com/realtimenews/20201014000737-260407?ctrack=mo_main_hot_p07\n",
      "\n"
     ]
    }
   ],
   "source": [
    "# Chinatimes頭條新聞\n",
    "import requests\n",
    "from bs4 import BeautifulSoup\n",
    "\n",
    "# 下載 Chinatimes 首頁內容\n",
    "url = 'https://www.chinatimes.com/'\n",
    "r = requests.get(url)\n",
    "\n",
    "# 確認是否下載成功\n",
    "if r.status_code == requests.codes.ok:\n",
    "  # 以 BeautifulSoup 解析 HTML 程式碼\n",
    "  soup = BeautifulSoup(r.text, 'html.parser')\n",
    "\n",
    "  # 以 CSS 的 class 抓出各類頭條新聞\n",
    "\n",
    "  titles = soup.find_all('h4', class_='title', limit=7)\n",
    "  for title in titles:\n",
    "        print(title.select_one(\"a\").text)\n",
    "        print('網址: '+ title.select_one(\"a\").get(\"href\")+'\\n')\n",
    "        #print()\t\n",
    "\n",
    "# 讀取所有 <b>的標籤內容\n",
    "#print(soup.find('b'))\n",
    "\n",
    "#讀取所有<a>的標籤內容\n",
    "#print(soup.find_all('a'))"
   ]
  },
  {
   "cell_type": "code",
   "execution_count": 8,
   "metadata": {},
   "outputs": [
    {
     "name": "stdout",
     "output_type": "stream",
     "text": [
      "美大選盛況空前 為投一票最長苦等11小時 \n",
      "網址: https://www.chinatimes.com/realtimenews/20201014003843-260408?ctrack=mo_main_recmd_p01\n",
      "\n",
      "3000元買清槍片 想看鮮肉涂善存卻疑見精壯男模\n",
      "網址: https://www.chinatimes.com/realtimenews/20201014003840-260402?ctrack=mo_main_recmd_p02\n",
      "\n",
      "美豬聽證會 綠委竟低頭玩俄羅斯方塊 網怒：尊重呢？\n",
      "網址: https://www.chinatimes.com/realtimenews/20201014003834-260407?ctrack=mo_main_recmd_p03\n",
      "\n",
      "雄風不振又力不從心 潛藏健康危機 \n",
      "網址: https://www.chinatimes.com/realtimenews/20201014003519-260418?ctrack=mo_main_recmd_p04\n",
      "\n",
      "iPhone 12 預約超熱 中華電信下午3點開放預約 官網塞爆\n",
      "網址: https://www.chinatimes.com/realtimenews/20201014003791-260410?ctrack=mo_main_recmd_p05\n",
      "\n",
      "悠遊卡公司 再推明星花露水造型\n",
      "網址: https://www.chinatimes.com/realtimenews/20201014003565-260415?ctrack=mo_main_recmd_p06\n",
      "\n",
      "昔參與反南鐵東移 高思博轟林飛帆：如今不見蹤影\n",
      "網址: https://www.chinatimes.com/realtimenews/20201014003717-260407?ctrack=mo_main_recmd_p07\n",
      "\n"
     ]
    }
   ],
   "source": [
    "#焦點新聞\n",
    "titles2 = soup.find_all('h3', class_='title', limit=7)\n",
    "for title in titles2:\n",
    "        print(title.select_one(\"a\").text)\n",
    "        print('網址: '+ title.select_one(\"a\").get(\"href\")+'\\n')"
   ]
  },
  {
   "cell_type": "code",
   "execution_count": null,
   "metadata": {},
   "outputs": [],
   "source": []
  }
 ],
 "metadata": {
  "kernelspec": {
   "display_name": "Python 3",
   "language": "python",
   "name": "python3"
  },
  "language_info": {
   "codemirror_mode": {
    "name": "ipython",
    "version": 3
   },
   "file_extension": ".py",
   "mimetype": "text/x-python",
   "name": "python",
   "nbconvert_exporter": "python",
   "pygments_lexer": "ipython3",
   "version": "3.6.9"
  }
 },
 "nbformat": 4,
 "nbformat_minor": 2
}
